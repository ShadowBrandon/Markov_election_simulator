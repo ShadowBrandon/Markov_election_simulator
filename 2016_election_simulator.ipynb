{
 "cells": [
  {
   "cell_type": "markdown",
   "metadata": {},
   "source": [
    "# 2016 Election Simulator using Markov Chains"
   ]
  },
  {
   "cell_type": "markdown",
   "metadata": {},
   "source": [
    "## Introduction to a simple simulation."
   ]
  },
  {
   "cell_type": "markdown",
   "metadata": {},
   "source": [
    "Today we will relive the 2016 elections using Markov chains. An introduction to Markov chains can be found [here](https://towardsdatascience.com/introduction-to-markov-chains-50da3645a50d) while an example using code can be found [here](https://www.datacamp.com/community/tutorials/markov-chains-python-tutorial). Simulating the 2016 election is important in light of the criticisms of the [2016 election forecasts](https://www.currentaffairs.org/2016/12/why-you-should-never-ever-listen-to-nate-silver). Let's start by running 2016 100 times and see who gets elected based on the [538 chances at the time](https://projects.fivethirtyeight.com/2016-election-forecast/)."
   ]
  },
  {
   "cell_type": "code",
   "execution_count": 3,
   "metadata": {},
   "outputs": [],
   "source": [
    "#Import numpy for arrays and random to simulate probability. I later added matplotlib for plotting.\n",
    "import numpy as np\n",
    "import random\n",
    "import matplotlib.pyplot as plt\n",
    "%matplotlib inline"
   ]
  },
  {
   "cell_type": "code",
   "execution_count": 9,
   "metadata": {},
   "outputs": [],
   "source": [
    "def twenty_sixteen_election(times):\n",
    "    #This function uses numpy's random choice to pick a winner based on the probability I've fed in.\n",
    "    result = ['Clinton Wins', 'Trump Wins']\n",
    "    p = [.714, .286]\n",
    "    ClintonWins = 0\n",
    "    TrumpWins = 0\n",
    "    for x in range(times):\n",
    "        election = np.random.choice(result, replace=True, p=p)\n",
    "        if election == 'Clinton Wins':\n",
    "            ClintonWins += 1\n",
    "        else:\n",
    "            TrumpWins += 1\n",
    "    print(\"In our simulation Clinton won\", ClintonWins, \"times.\")\n",
    "    print(\"In our simulation Trump won\", TrumpWins, \"times.\")"
   ]
  },
  {
   "cell_type": "code",
   "execution_count": 10,
   "metadata": {},
   "outputs": [
    {
     "name": "stdout",
     "output_type": "stream",
     "text": [
      "In our simulation Clinton won 69 times.\n",
      "In our simulation Trump won 31 times.\n"
     ]
    }
   ],
   "source": [
    "twenty_sixteen_election(100)"
   ]
  },
  {
   "cell_type": "markdown",
   "metadata": {},
   "source": [
    "As you can see Clinton won the majority of the time but Trump won 31 times. The main takeaway here is that 28% is not zero. I'll leave [others](https://www.quantamagazine.org/why-nate-silver-sam-wang-and-everyone-else-were-wrong-20161109/) to debate 538's particular models or whether they were the correct numbers. Now onto the real fun."
   ]
  },
  {
   "cell_type": "markdown",
   "metadata": {},
   "source": [
    "## Now to make it a Markov election"
   ]
  },
  {
   "cell_type": "markdown",
   "metadata": {},
   "source": [
    "Now in the example above the chances for a canidate to win remained the same throughout. This assumed that nothing would change from election to election. If this was happening in a multiverse with an infinite number of paralell universe, this might work. In this example we'll run our next simulation in a time linear fashion. Now after each canidate wins an election, they will have to face their same opponent with an incumbency factor. For this senario Trump's incumbency factor will be that his [unpopularity as of 9/1/2018](https://projects.fivethirtyeight.com/trump-approval-ratings/) translates to Clinton's chances for victory. Clinton's incumbency factor will be a [poll run after the election](https://www.washingtonpost.com/news/the-fix/wp/2017/11/06/12-months-later-trump-would-probably-still-win-the-2016-election/?utm_term=.ab6161d96666) with Trump getting all of the undecided votes. Another side note is that the first current president is Obama so neither candidate will have an incumbency factor."
   ]
  },
  {
   "cell_type": "code",
   "execution_count": 48,
   "metadata": {},
   "outputs": [],
   "source": [
    "def simple_Markov_election(times):\n",
    "    #We will start with the 2016 election\n",
    "    Current_President = 'Obama'\n",
    "    result = ['Clinton Wins', 'Trump Wins'] \n",
    "    p = [[.714, .286], [.46, .54], [.597, .403]]\n",
    "    ClintonWins = 0\n",
    "    TrumpWins = 0\n",
    "    President_List = [Current_President]\n",
    "    election = np.random.choice(result, replace=True, p=p[0])\n",
    "    if election == 'Clinton Wins':\n",
    "        ClintonWins += 1\n",
    "        Current_President = 'Clinton'\n",
    "        President_List.append('Clinton')\n",
    "    else:\n",
    "        TrumpWins += 1\n",
    "        Current_President = 'Trump'\n",
    "        President_List.append('Trump')\n",
    "    print(\"The winner of the 2016 election is\", Current_President + \".\")\n",
    "    #Now that the 2016 election is decided, we will run subsequent elections. I'll use range - 1 to account for the\n",
    "    #first election\n",
    "    for x in range(times - 1):\n",
    "        if Current_President == 'Clinton':\n",
    "            election = np.random.choice(result, replace=True, p=p[1])\n",
    "            if election == 'Clinton Wins':\n",
    "                ClintonWins += 1\n",
    "                Current_President = 'Clinton'\n",
    "                President_List.append('Clinton')\n",
    "            else:\n",
    "                TrumpWins += 1\n",
    "                Current_President = 'Trump'\n",
    "                President_List.append('Trump')\n",
    "        else:\n",
    "            election = np.random.choice(result, replace=True, p=p[2])\n",
    "            if election == 'Clinton Wins':\n",
    "                ClintonWins += 1\n",
    "                Current_President = 'Clinton'\n",
    "                President_List.append('Clinton')\n",
    "            else:\n",
    "                TrumpWins += 1\n",
    "                Current_President = 'Trump'\n",
    "                President_List.append('Trump')\n",
    "    print(\"In our simulation Clinton won\", ClintonWins, \"times.\")\n",
    "    print(\"In our simulation Trump won\", TrumpWins, \"times.\")"
   ]
  },
  {
   "cell_type": "code",
   "execution_count": 11,
   "metadata": {},
   "outputs": [
    {
     "name": "stdout",
     "output_type": "stream",
     "text": [
      "The winner of the 2016 election is Trump.\n",
      "In our simulation Clinton won 51 times.\n",
      "In our simulation Trump won 49 times.\n"
     ]
    }
   ],
   "source": [
    "simple_Markov_election(100)"
   ]
  },
  {
   "cell_type": "markdown",
   "metadata": {},
   "source": [
    "This was an interesting result. Trump won the 2016 election in this multiverse(I admittedly ran this a few times while I made minor corrections to the code). However incumbency seems to have worked against him as Hillary won 51 times to Trump's 49. "
   ]
  },
  {
   "cell_type": "markdown",
   "metadata": {},
   "source": [
    "## Now let's add primaries to the mix"
   ]
  },
  {
   "cell_type": "markdown",
   "metadata": {},
   "source": [
    "Now onto the main challenge. This time I'm going to add a primary level to the election simulation that mimics the democratic and republican primaries from 2016. In the democratic primary Hillary Clinton will face off against Bernie Sanders with the probability being the total of the popular vote each canidate got. The republican primary will start from the point when it contained Donald Trump, Ted Cruz, and John Kasich. I assigned the probability of each with the percentage of the popular vote each canidate got with the remaining portion going to Trump. As with the previous simulation, the current president is Obama so no one gets an incumbency factor."
   ]
  },
  {
   "cell_type": "markdown",
   "metadata": {},
   "source": [
    "### Incumbency"
   ]
  },
  {
   "cell_type": "markdown",
   "metadata": {},
   "source": [
    "Given that there are more canidates, incumbency will work a little differently. An incumbent president follows two different rules from the other canidates:\n",
    "\n",
    "* ~~An incumbent president will not face a primary challenger. This will mirror historical trends of incumbent presidents usually facing little to no opposition in their own party.~~ An incumbent president will have a 90% chance of beating primary challengers. This allows the Markov chain to go multiple levels.\n",
    "\n",
    "* An incumbent's chances in the general will take a one standard deviation step of all probabilities in facing other challengers towards .7. For example, if Clinton's chances of winning against Trump, Cruz, and Kasich are 71%, 86%, and 93% respectively, as an incumbent they drop to 62%, 77%, and 84%(one standard deviation in this case being 9%). If this happened again the chances would be 71%, 68%, and 75%(assuming the same standard deviation).\n",
    "\n",
    "I've also added an input to guess who the final president will be."
   ]
  },
  {
   "cell_type": "code",
   "execution_count": 4,
   "metadata": {},
   "outputs": [],
   "source": [
    "def original_election():\n",
    "    #We will start with the 2016 election. The primary will create a senario number.\n",
    "    Current_President = 'Obama'\n",
    "    canidate = []\n",
    "    President_List = [Current_President]\n",
    "    canidate_sen = {'Clinton': {'Trump': 1, 'Cruz': 2, 'Kasich': 3},\n",
    "                   'Sanders': {'Trump': 4, 'Cruz': 5, 'Kasich': 6}}\n",
    "    ClintonWins = 0\n",
    "    TrumpWins = 0\n",
    "    SandersWins = 0\n",
    "    CruzWins = 0\n",
    "    KasichWins = 0\n",
    "    result = ['Clinton Wins', 'Sanders Wins']\n",
    "    p = [.552, .448]\n",
    "    dem_primary = np.random.choice(result, replace=True, p=p)\n",
    "    if dem_primary == 'Clinton Wins':\n",
    "        canidate.append('Clinton')\n",
    "    else:\n",
    "        canidate.append('Sanders')\n",
    "    result = ['Trump Wins', 'Cruz Wins', 'Kasich Wins']\n",
    "    p = [.611, .251, .138]\n",
    "    rep_primary = np.random.choice(result, replace=True, p=p)\n",
    "    if rep_primary == 'Trump Wins':\n",
    "        canidate.append('Trump')\n",
    "    elif rep_primary == 'Cruz Wins':\n",
    "        canidate.append('Cruz')\n",
    "    else:\n",
    "        canidate.append('Kasich')\n",
    "    scenario_num = canidate_sen[canidate[0]][canidate[1]]\n",
    "    #Now for the controversial part. I created 6 different senarios which can be picked out based on who wins.\n",
    "    #I'm trying to be as historically accurate as possible but there is some guess work.\n",
    "    #The senario number will determine which lists are used.\n",
    "    result = ([['Clinton Wins', 'Trump Wins'], ['Clinton Wins', 'Cruz Wins'], ['Clinton Wins', 'Kasich Wins'], \n",
    "              ['Sanders Wins', 'Trump Wins'], ['Sanders Wins', 'Cruz Wins'], ['Sanders Wins', 'Kasich Wins']])\n",
    "    p = [[.714, .286], [.857, .143], [.928, .072], [.55, .45], [.79, .21], [.895, .105]]\n",
    "    election = np.random.choice(result[scenario_num - 1], replace=True, p=p[scenario_num - 1])\n",
    "    if election == 'Clinton Wins':\n",
    "        ClintonWins += 1\n",
    "        Current_President = 'Clinton'\n",
    "        President_List.append('Clinton')\n",
    "    elif election == 'Trump Wins':\n",
    "        TrumpWins += 1\n",
    "        Current_President = 'Trump'\n",
    "        President_List.append('Trump')\n",
    "    elif election == 'Sanders Wins':\n",
    "        SandersWins += 1\n",
    "        Current_President = 'Sanders'\n",
    "        President_List.append('Sanders')\n",
    "    elif election == 'Cruz Wins':\n",
    "        CruzWins += 1\n",
    "        Current_President = 'Cruz'\n",
    "        President_List.append('Cruz')\n",
    "    else:\n",
    "        KasichWins += 1\n",
    "        Current_President = 'Kasich'\n",
    "        President_List.append('Kasich')\n",
    "    #Oh. It seems there are a lot of variables I want to pass on but I can only return so much.\n",
    "    #I'll store all the values as a list which the next function will unpack\n",
    "    compress = [Current_President, President_List, ClintonWins, TrumpWins, SandersWins, CruzWins, KasichWins]\n",
    "    return compress"
   ]
  },
  {
   "cell_type": "markdown",
   "metadata": {},
   "source": [
    "**Note**: For match ups against Clinton I took the Trump Clinton odds and then divided the republicans chances in half based on the idea that Trump was the strongest canidate on the republican side. I got the Sanders vs Trump numbers [here](https://www.cnn.com/2018/01/23/politics/2020-trump-biden-sanders-winfrey/index.html) and then applied the same halving logic."
   ]
  },
  {
   "cell_type": "code",
   "execution_count": 5,
   "metadata": {},
   "outputs": [],
   "source": [
    "def simulated_elections(times):\n",
    "    #First we run a recursive 2016 election and unpack the original values\n",
    "    print(\"Who do you think will be the president at the final iteration?\")\n",
    "    print(\"Please enter: Clinton, Sanders, Trump, Cruz, or Kasich\")\n",
    "    Pick = str(input())\n",
    "    twenty_sixteen = original_election()\n",
    "    Current_President = twenty_sixteen[0]\n",
    "    President_List = twenty_sixteen[1]\n",
    "    ClintonWins = twenty_sixteen[2]\n",
    "    TrumpWins = twenty_sixteen[3]\n",
    "    SandersWins = twenty_sixteen[4]\n",
    "    CruzWins = twenty_sixteen[5]\n",
    "    KasichWins = twenty_sixteen[6]\n",
    "    print(\"The winner of the 2016 election is\", Current_President + \".\")\n",
    "    #I'll make a senario for each president that contains a primary and an election\n",
    "    for x in range(times - 1):\n",
    "        if Current_President == 'Clinton':\n",
    "            canidate = []\n",
    "            canidate_sen = {'Clinton': {'Trump': 1, 'Cruz': 2, 'Kasich': 3},\n",
    "                           'Sanders': {'Trump': 4, 'Cruz': 5, 'Kasich': 6}}\n",
    "            result = ['Clinton Wins', 'Sanders Wins']\n",
    "            p = [.9, .1]\n",
    "            dem_primary = np.random.choice(result, replace=True, p=p)\n",
    "            if dem_primary == 'Clinton Wins':\n",
    "                canidate.append('Clinton')\n",
    "            else:\n",
    "                canidate.append('Sanders')\n",
    "            result = ['Trump Wins', 'Cruz Wins', 'Kasich Wins']\n",
    "            p = [.611, .251, .138]\n",
    "            rep_primary = np.random.choice(result, replace=True, p=p)\n",
    "            if rep_primary == 'Trump Wins':\n",
    "                canidate.append('Trump')\n",
    "            elif rep_primary == 'Cruz Wins':\n",
    "                canidate.append('Cruz')\n",
    "            else:\n",
    "                canidate.append('Kasich')\n",
    "            scenario_num = canidate_sen[canidate[0]][canidate[1]]\n",
    "            result = ([['Clinton Wins', 'Trump Wins'], ['Clinton Wins', 'Cruz Wins'], ['Clinton Wins', 'Kasich Wins'],\n",
    "                      ['Sanders Wins', 'Trump Wins'], ['Sanders Wins', 'Cruz Wins'], ['Sanders Wins', 'Kasich Wins']])\n",
    "            p = [[.46, .54], [.768, .232], [.839, .161], [.55, .45], [.79, .21], [.895, .105]]\n",
    "            election = np.random.choice(result[scenario_num - 1], replace=True, p=p[scenario_num - 1])\n",
    "            if election == 'Clinton Wins':\n",
    "                ClintonWins += 1\n",
    "                Current_President = 'Clinton'\n",
    "                President_List.append('Clinton')\n",
    "            elif election == 'Trump Wins':\n",
    "                TrumpWins += 1\n",
    "                Current_President = 'Trump'\n",
    "                President_List.append('Trump')\n",
    "            elif election == 'Cruz Wins':\n",
    "                CruzWins += 1\n",
    "                Current_President = 'Cruz'\n",
    "                President_List.append('Cruz')\n",
    "            elif election == 'Sanders Wins':\n",
    "                SandersWins += 1\n",
    "                Current_President = 'Sanders'\n",
    "                President_List.append('Sanders')\n",
    "            else:\n",
    "                KasichWins += 1\n",
    "                Current_President = 'Kasich'\n",
    "                President_List.append('Kasich')\n",
    "        elif Current_President == 'Trump':\n",
    "            canidate = []\n",
    "            canidate_sen = {'Trump': {'Sanders': 1, 'Clinton': 2},\n",
    "                           'Cruz': {'Sanders': 3, 'Clinton': 4},\n",
    "                           'Kasich': {'Sanders': 5, 'Clinton': 6}}\n",
    "            result = ['Trump Wins', 'Cruz Wins', 'Kasich Wins']\n",
    "            p = [.9, .05, .05]\n",
    "            rep_primary = np.random.choice(result, replace=True)\n",
    "            if rep_primary == 'Trump Wins':\n",
    "                canidate.append('Trump')\n",
    "            elif rep_primary == 'Cruz Wins':\n",
    "                canidate.append('Cruz')\n",
    "            else:\n",
    "                canidate.append('Kasich')\n",
    "            result = ['Clinton Wins', 'Sanders Wins']\n",
    "            p = [.552, .448]\n",
    "            dem_primary = np.random.choice(result, replace=True, p=p)\n",
    "            if dem_primary == 'Clinton Wins':\n",
    "                canidate.append('Clinton')\n",
    "            else:\n",
    "                canidate.append('Sanders')\n",
    "            scenario_num = canidate_sen[canidate[0]][canidate[1]]\n",
    "            result = ([['Trump Wins', 'Sanders Wins'], ['Trump Wins', 'Clinton Wins'], ['Cruz Wins', 'Sanders Wins'], \n",
    "                      ['Cruz Wins', 'Clinton Wins'], ['Kasich Wins', 'Sanders Wins'], ['Kasich Wins', 'Clinton Wins']])\n",
    "            p = [[.487, .513], [.54, .46], [.21, .79], [.143, .857], [.105, .895], [.072, .928]]\n",
    "            election = np.random.choice(result[scenario_num - 1], replace=True, p=p[scenario_num - 1])\n",
    "            if election == 'Trump Wins':\n",
    "                TrumpWins += 1\n",
    "                Current_President = 'Trump'\n",
    "                President_List.append('Trump')\n",
    "            elif election == 'Sanders Wins':\n",
    "                SandersWins += 1\n",
    "                Current_President = 'Sanders'\n",
    "                President_List.append('Sanders')\n",
    "            elif election == 'Cruz Wins':\n",
    "                CruzWins += 1\n",
    "                Current_President = 'Cruz'\n",
    "                President_List.append('Cruz')\n",
    "            elif election == 'Kasich Wins':\n",
    "                KasichWins += 1\n",
    "                Current_President = 'Kasich'\n",
    "                President_List.append('Kasich')\n",
    "            else:\n",
    "                ClintonWins += 1\n",
    "                Current_President = 'Clinton'\n",
    "                President_List.append('Clinton')\n",
    "        elif Current_President == 'Sanders':\n",
    "            canidate = []\n",
    "            canidate_sen = {'Sanders': {'Trump': 1, 'Cruz': 2, 'Kasich': 3}, \n",
    "                           'Clinton': {'Trump': 4, 'Cruz': 5, 'Kasich': 6}}\n",
    "            result = ['Sanders Wins', 'Clinton Wins']\n",
    "            p = [.9, .1]\n",
    "            dem_primary = np.random.choice(result, replace=True, p=p)\n",
    "            if dem_primary == 'Sanders Wins':\n",
    "                canidate.append('Sanders')\n",
    "            else:\n",
    "                canidate.append('Clinton')\n",
    "            result = ['Trump Wins', 'Cruz Wins', 'Kasich Wins']\n",
    "            p = [.611, .251, .138]\n",
    "            rep_primary = np.random.choice(result, replace=True, p=p)\n",
    "            if rep_primary == 'Trump Wins':\n",
    "                canidate.append('Trump')\n",
    "            elif rep_primary == 'Cruz Wins':\n",
    "                canidate.append('Cruz')\n",
    "            else:\n",
    "                canidate.append('Kasich')\n",
    "            scenario_num = canidate_sen[canidate[0]][canidate[1]]\n",
    "            result = ([['Sanders Wins', 'Trump Wins'], ['Sanders Wins', 'Cruz Wins'], ['Sanders Wins', 'Kasich Wins'], \n",
    "                      ['Clinton Wins', 'Trump Wins'], ['Clinton Wins', 'Cruz Wins'], ['Clinton Wins', 'Kasich Wins']])\n",
    "            p = [[.694, .306], [.646, .354], [.751, .249], [.714, .286], [.857, .143], [.928, .072]]\n",
    "            election = np.random.choice(result[scenario_num - 1], replace=True, p=p[scenario_num - 1])\n",
    "            if election == 'Trump Wins':\n",
    "                TrumpWins += 1\n",
    "                Current_President = 'Trump'\n",
    "                President_List.append('Trump')\n",
    "            elif election == 'Sanders Wins':\n",
    "                SandersWins += 1\n",
    "                Current_President = 'Sanders'\n",
    "                President_List.append('Sanders')\n",
    "            elif election == 'Cruz Wins':\n",
    "                CruzWins += 1\n",
    "                Current_President = 'Cruz'\n",
    "                President_List.append('Cruz')\n",
    "            elif election == 'Clinton Wins':\n",
    "                ClintonWins += 1\n",
    "                Current_President = 'Clinton'\n",
    "                President_List.append('Clinton')\n",
    "            else:\n",
    "                KasichWins += 1\n",
    "                Current_President = 'Kasich'\n",
    "                President_List.append('Kasich')\n",
    "        elif Current_President == 'Cruz':\n",
    "            canidate = []\n",
    "            canidate_sen = {'Cruz': {'Sanders': 1, 'Clinton': 2},\n",
    "                           'Trump': {'Sanders': 3, 'Clinton': 4},\n",
    "                           'Kasich': {'Sanders': 5, 'Clinton': 6}}\n",
    "            result = ['Cruz Wins', 'Trump Wins', 'Kasich Wins']\n",
    "            p = [.9, .05, .05]\n",
    "            rep_primary = np.random.choice(result, replace=True, p=p)\n",
    "            if rep_primary == 'Cruz Wins':\n",
    "                canidate.append('Cruz')\n",
    "            elif rep_primary == 'Trump Wins':\n",
    "                canidate.append('Trump')\n",
    "            else:\n",
    "                canidate.append('Kasich')\n",
    "            result = ['Clinton Wins', 'Sanders Wins']\n",
    "            p = [.552, .448]\n",
    "            dem_primary = np.random.choice(result, replace=True, p=p)\n",
    "            if dem_primary == 'Clinton Wins':\n",
    "                canidate.append('Clinton')\n",
    "            else:\n",
    "                canidate.append('Sanders')\n",
    "            scenario_num = canidate_sen[canidate[0]][canidate[1]]\n",
    "            result = ([['Cruz Wins', 'Sanders Wins'], ['Cruz Wins', 'Clinton Wins'], ['Trump Wins', 'Sanders Wins'], \n",
    "                      ['Trump Wins', 'Clinton Wins'], ['Kasich Wins', 'Sanders Wins'], ['Kasich Wins', 'Clinton Wins']])\n",
    "            p = [[.244, .756], [.177, .823], [.45, .55], [.714, .286], [.105, .895], [.072, .928]]\n",
    "            election = np.random.choice(result[scenario_num - 1], replace=True, p=p[scenario_num - 1])\n",
    "            if election == 'Cruz Wins':\n",
    "                CruzWins += 1\n",
    "                Current_President = 'Cruz'\n",
    "                President_List.append('Cruz')\n",
    "            elif election == 'Sanders Wins':\n",
    "                SandersWins += 1\n",
    "                Current_President = 'Sanders'\n",
    "                President_List.append('Sanders')\n",
    "            elif election == 'Trump Wins':\n",
    "                TrumpWins += 1\n",
    "                Current_President = 'Trump'\n",
    "                President_List.append('Trump')\n",
    "            elif election == 'Kasich Wins':\n",
    "                KasichWins += 1\n",
    "                Current_President = 'Kasich'\n",
    "                President_List.append('Kasich')\n",
    "            else:\n",
    "                KasichWins += 1\n",
    "                Current_President = 'Clinton'\n",
    "                President_List.append('Clinton')\n",
    "        else:\n",
    "            canidate = []\n",
    "            canidate_sen = {'Kasich': {'Sanders': 1, 'Clinton': 2},\n",
    "                           'Trump': {'Sanders': 3, 'Clinton': 4},\n",
    "                           'Cruz': {'Sanders': 5, 'Clinton': 6}}\n",
    "            result = ['Kasich Wins', 'Trump Wins', 'Cruz Wins']\n",
    "            p = [.9, .05, .05]\n",
    "            rep_primary = np.random.choice(result, replace=True, p=p)\n",
    "            if rep_primary == 'Kasich Wins':\n",
    "                canidate.append('Kasich')\n",
    "            elif rep_primary == 'Trump Wins':\n",
    "                canidate.append('Trump')\n",
    "            else:\n",
    "                canidate.append('Cruz')\n",
    "            result = ['Clinton Wins', 'Sanders Wins']\n",
    "            p = [.552, .448]\n",
    "            dem_primary = np.random.choice(result, replace=True, p=p)\n",
    "            if dem_primary == 'Clinton Wins':\n",
    "                canidate.append('Clinton')\n",
    "            else:\n",
    "                canidate.append('Sanders')\n",
    "            scenario_num = canidate_sen[canidate[0]][canidate[1]]\n",
    "            result = ([['Kasich Wins', 'Sanders Wins'], ['Kasich Wins', 'Clinton Wins'], ['Trump Wins', 'Sanders Wins'],\n",
    "                      ['Trump Wins', 'Clinton Wins'], ['Cruz Wins', 'Sanders Wins'], ['Cruz Wins', 'Clinton Wins']])\n",
    "            p = [[.107, .893], [.074, .926], [.45, .55], [.286, .714], [.21, .79], [.143, .857]]\n",
    "            election = np.random.choice(result[scenario_num - 1], replace=True, p=p[scenario_num - 1])\n",
    "            if election == 'Kasich Wins':\n",
    "                KasichWins += 1\n",
    "                Current_President = 'Kasich'\n",
    "                President_List.append('Kasich')\n",
    "            elif election == 'Sanders Wins':\n",
    "                SandersWins += 1\n",
    "                Current_President = 'Sanders'\n",
    "                President_List.append('Sanders')\n",
    "            elif election == 'Trump Wins':\n",
    "                TrumpWins += 1\n",
    "                Current_President = 'Trump'\n",
    "                President_List.append('Trump')\n",
    "            elif election == 'Cruz Wins':\n",
    "                CruzWins += 1\n",
    "                Current_President = 'Cruz'\n",
    "                President_List.append('Cruz')\n",
    "            else:\n",
    "                ClintonWins += 1\n",
    "                Current_President = 'Clinton'\n",
    "                President_List.append('Clinton')\n",
    "    print(\"In our simulation Clinton won\", ClintonWins, \"times.\")\n",
    "    print(\"In our simulation Trump won\", TrumpWins, \"times.\")\n",
    "    print(\"In our simulation Sanders won\", SandersWins, \"times.\")\n",
    "    print(\"In our simulation Cruz won\", CruzWins, \"times.\")\n",
    "    print(\"In our simulation Kasich won\", KasichWins, \"times.\")\n",
    "    if Pick == Current_President:\n",
    "        print(\"Hey you got it right with\", Pick + \".\")\n",
    "    else:\n",
    "        print(\"Sorry.\", Pick, \"was not correct. It was\", Current_President + \". Please try again.\")\n",
    "    ywins = [ClintonWins, TrumpWins, SandersWins, CruzWins, KasichWins]\n",
    "    xwins = ['Clinton', 'Trump', 'Sanders', 'Cruz', 'Kasich']\n",
    "    plt.figure(dpi=100)\n",
    "    plt.bar(xwins, ywins, color='blue', edgecolor='black')\n",
    "    plt.xlabel('Canidate name')\n",
    "    plt.ylabel('Number of times canidate won')\n",
    "    plt.title('Number of times each canidate won in the simulation')\n",
    "    plt.show()\n",
    "    plt.figure(dpi=100)\n",
    "    plt.plot(President_List)\n",
    "    plt.xlabel('Simulation Number')\n",
    "    plt.ylabel('Current President')\n",
    "    plt.title('Timeline of election winners')\n",
    "    plt.show()"
   ]
  },
  {
   "cell_type": "code",
   "execution_count": 6,
   "metadata": {},
   "outputs": [
    {
     "name": "stdout",
     "output_type": "stream",
     "text": [
      "Who do you think will be the president at the final iteration?\n",
      "Please enter: Clinton, Sanders, Trump, Cruz, or Kasich\n",
      "Sanders\n",
      "The winner of the 2016 election is Trump.\n",
      "In our simulation Clinton won 43 times.\n",
      "In our simulation Trump won 20 times.\n",
      "In our simulation Sanders won 22 times.\n",
      "In our simulation Cruz won 9 times.\n",
      "In our simulation Kasich won 6 times.\n",
      "Sorry. Sanders was not correct. It was Trump. Please try again.\n"
     ]
    },
    {
     "data": {
      "image/png": "[encoded data removed]",
      "text/plain": [
       "<Figure size 600x400 with 1 Axes>"
      ]
     },
     "metadata": {},
     "output_type": "display_data"
    },
    {
     "data": {
      "image/png": "[encoded data removed]",
      "text/plain": [
       "<Figure size 600x400 with 1 Axes>"
      ]
     },
     "metadata": {},
     "output_type": "display_data"
    }
   ],
   "source": [
    "simulated_elections(100)"
   ]
  },
  {
   "cell_type": "markdown",
   "metadata": {},
   "source": [
    "Each simulation will record and graph the number of times each canidate won the presidency. Generally Clinton, Trump, and Sanders tend to win the most elections every time I run the code. Please feel free to give this a try."
   ]
  }
 ],
 "metadata": {
  "kernelspec": {
   "display_name": "Python 3",
   "language": "python",
   "name": "python3"
  },
  "language_info": {
   "codemirror_mode": {
    "name": "ipython",
    "version": 3
   },
   "file_extension": ".py",
   "mimetype": "text/x-python",
   "name": "python",
   "nbconvert_exporter": "python",
   "pygments_lexer": "ipython3",
   "version": "3.6.5"
  }
 },
 "nbformat": 4,
 "nbformat_minor": 2
}
